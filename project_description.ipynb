{
 "cells": [
  {
   "cell_type": "markdown",
   "metadata": {
    "id": "7dmwLGm98h9w"
   },
   "source": [
    "# Description of the final project\n",
    "\n",
    "## Introduction\n",
    "\n",
    "In this project, you are going to work with the dataset based on the census data extracted from the 1994 and 1995 current population surveys conducted by the U.S. Census Bureau. Your goal is to predict level of income of a person: \"- 50000\" (means less than \\$50k/year) or \"50000+\" (means more than \\$50k/year). The data is split into train (`train.csv`) and test (`test.csv`) parts. You should use train part to train the models, and test part to estimate their final quality. The best quality on the test dataset should be your final result.\n",
    "\n",
    "The description of the data is available here: https://archive.ics.uci.edu/ml/datasets/Census-Income+%28KDD%29\n",
    "\n",
    "_Citation:_\n",
    "\n",
    "* _Dua, D. and Graff, C. (2019). UCI Machine Learning Repository [http://archive.ics.uci.edu/ml]. Irvine, CA: University of California, School of Information and Computer Science._\n",
    "\n",
    "## Detailed Task Description\n",
    "\n",
    "The solution should have the following parts:\n",
    "\n",
    "### [25%] 1. Data exploration\n",
    "\n",
    "* 1.1. (8%) Which metric are you going to use to evaluate the performance of the model and why?\n",
    "* 1.2. (8%) Which validation strategy are you going to use and why? Apply it to the data on the preprocessing step\n",
    "* 1.3. (9%) Explore which features do you have, what is their distribution and connection to the target. Perform feature selection techniques such as PCA, and feature engineering, if necessary. Explain your decisions\n",
    "\n",
    "### [25%] 2. Data preprocessing\n",
    "\n",
    "* 2.1. (8%) Fill missing values (if there are any)\n",
    "* 2.2. (9%) Properly encode categorical features. Explain your choice of methods of categorical feature encoding\n",
    "* 2.3. (8%) Cluster observations and add cluster number as one of the features. Make sure that the clustering method has a good quality\n",
    "\n",
    "### [25%] 3. Model training\n",
    "\n",
    "* 3.1. (8%) Apply different techniques which can help to work with imbalanced data. You are supposed to try at least 2 techniques (in the end, you don't have to include them into your final pipeline - but you should explain why)\n",
    "* 3.2. (9%) Train different machine learning models, including the advanced boosting algorithms studied during the course. Carefully tune hyperparameters of the algorithms. You are supposed to compare at least 3 models\n",
    "* 3.3. (8%) Perform blending or stacking of the trained machine learning algorithms. Carefully tune the weights of the ensemble\n",
    "\n",
    "### [25%] 4. Summary\n",
    "\n",
    "* 4.1. (8%) Estimate the quality of the models and their ensemble on the test set. Describe the results. Which model is the best?\n",
    "* 4.2. (8%) Interpret the best single model and the ensemble. Use at least 2 model interpretation techniques. Explain, why your models have good quality (or bad quality)\n",
    "* 4.3. (9%) Summarize your results and write a conclusion. What have you found in the data, which techniques did you use? Which methods and models worked best in your task? Can you explain in simple words why should we trust your final model?\n",
    "\n",
    "### General Requirements\n",
    "\n",
    "* You should provide a solution in the form of the Jupyter Notebook with code cells and markdown cells (with text)\n",
    "* Make sure that the instructor can run all the cells to reproduce your results\n",
    "* Clearly answer each question, perform the required actions from the task. Explain your decisions if you choose to use some techniques\n",
    "* Support all your statements with calculations and plots. For instance, if you claim that the dataset does not have missing values, you need to provide the code which shows that the total number of missing values is zero"
   ]
  }
 ],
 "metadata": {
  "colab": {
   "collapsed_sections": [],
   "name": "project_description.ipynb",
   "provenance": []
  },
  "kernelspec": {
   "display_name": "Python 3",
   "language": "python",
   "name": "python3"
  },
  "language_info": {
   "codemirror_mode": {
    "name": "ipython",
    "version": 3
   },
   "file_extension": ".py",
   "mimetype": "text/x-python",
   "name": "python",
   "nbconvert_exporter": "python",
   "pygments_lexer": "ipython3",
   "version": "3.7.4"
  }
 },
 "nbformat": 4,
 "nbformat_minor": 1
}
